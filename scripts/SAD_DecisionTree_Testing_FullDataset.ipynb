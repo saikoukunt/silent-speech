{
 "cells": [
  {
   "cell_type": "code",
   "execution_count": 1,
   "metadata": {},
   "outputs": [],
   "source": [
    "import extract_data\n",
    "import numpy as np\n",
    "import matplotlib.pyplot as plt\n",
    "import pandas as pd\n",
    "import h5py\n",
    "from scipy.signal import filtfilt, butter, iirnotch, welch\n",
    "import math\n",
    "from collections import deque\n",
    "from sklearn.model_selection import train_test_split\n",
    "from sklearn.tree import DecisionTreeClassifier\n",
    "from sklearn.preprocessing import StandardScaler\n",
    "from sklearn.model_selection import cross_val_score\n",
    "from sklearn.metrics import accuracy_score, confusion_matrix"
   ]
  },
  {
   "cell_type": "code",
   "execution_count": 15,
   "metadata": {},
   "outputs": [
    {
     "name": "stdout",
     "output_type": "stream",
     "text": [
      "2022-04-18T15:41:16.932-05\n"
     ]
    }
   ],
   "source": [
    "data, words, starts, ends = extract_data.extract_data(r\"C:\\Users\\lwing\\College\\Spring 2022\\Senior Design\\SilentSpeechDAS\\fEMGData\\mouthed_NewVocab_6_18th_set1.txt\", r\"C:\\Users\\lwing\\College\\Spring 2022\\Senior Design\\silent-speech\\scripts\\Mouthed_NewVocab_6_18th_set1_take3.txt\")"
   ]
  },
  {
   "cell_type": "code",
   "execution_count": 16,
   "metadata": {},
   "outputs": [],
   "source": [
    "chan_1 = data[:,0]\n",
    "chan_2 = data[:,1]\n",
    "chan_3 = data[:,2]\n",
    "chan_4 = data[:,3]\n",
    "chan_5 = data[:,4]\n",
    "chan_6 = data[:,5]\n",
    "channel_data = [chan_1, chan_2, chan_3, chan_4, chan_5, chan_6]"
   ]
  },
  {
   "cell_type": "markdown",
   "metadata": {},
   "source": [
    "### Creating target variable list"
   ]
  },
  {
   "cell_type": "code",
   "execution_count": 17,
   "metadata": {},
   "outputs": [
    {
     "data": {
      "text/plain": [
       "778050"
      ]
     },
     "execution_count": 17,
     "metadata": {},
     "output_type": "execute_result"
    }
   ],
   "source": [
    "len(chan_1)"
   ]
  },
  {
   "cell_type": "code",
   "execution_count": 18,
   "metadata": {},
   "outputs": [],
   "source": [
    "y = np.zeros(778050)"
   ]
  },
  {
   "cell_type": "code",
   "execution_count": 19,
   "metadata": {},
   "outputs": [
    {
     "name": "stdout",
     "output_type": "stream",
     "text": [
      "[  7981  27185  32258  37573  42698  47792  52850  57606  62624  67605\n",
      "  72813  77795  82976  88260  93447  98639 103917 109207 114416 120017\n",
      " 125152 130312 135501 140541 145734 150798 155885 161193 166419 171546\n",
      " 176590 188890 193716 199031 203980 208845 214106 219092 224113 230174\n",
      " 235467 240689 245808 251248 256765 262049 267327 272717 277997 283005\n",
      " 288146 294061 299269 304577 309648 314655 319782 324916 329826 335076\n",
      " 340580 345762 351070 356388 362126 367329 372511 377606 382761 388031\n",
      " 393287 398400 403535 408684 417375 422545 427270 432237 437282 441888\n",
      " 446933 452299 457387 462629 467551 472761 477888 482934 488136 493374\n",
      " 498768 503779 508932 514264 519513 524947 530233 535494 540642 545968\n",
      " 554500 559463 564729 569845 575325 580763 586191 591353 596422 601668\n",
      " 606978 612189 617636 622943 628173 633254 638489 643404 648684 653733\n",
      " 658722 664200 669467 674796 679948 685582 690809 696144 702034 709421\n",
      " 714210 719093 724264 729250 734318 739584 745882 750866 756043 761412\n",
      " 766588]\n",
      "[ 18986  28746  33963  39090  44300  49306  53961  59050  64054  69285\n",
      "  74232  79534  84706  89887  95033 100345 105685 110900 116010 121556\n",
      " 126762 131936 136952 142190 147250 152335 157645 162845 167961 173130\n",
      " 178080 190180 195477 200480 205313 210524 215491 220598 225901 231821\n",
      " 237079 242224 247651 253107 258479 263678 269149 274465 279451 284573\n",
      " 289514 295625 301062 306152 311193 316154 321335 326290 331536 337023\n",
      " 342258 347505 352860 358548 363835 369018 374008 379235 384498 389668\n",
      " 394814 399977 405159 410062 418885 423755 428726 433752 438210 443449\n",
      " 448767 453856 459118 464010 469248 474381 479412 484647 489789 495242\n",
      " 500163 505512 510751 516022 521456 526750 531998 537161 542423 546774\n",
      " 555951 561126 566167 571775 577218 582683 587747 592859 598125 603342\n",
      " 608609 614040 619356 624612 629646 634901 639751 645025 650064 655173\n",
      " 660471 665790 671026 676290 681927 687182 692492 698184 703441 710585\n",
      " 715444 720711 725736 730731 735998 742123 747294 752386 757816 762981\n",
      " 767978]\n"
     ]
    }
   ],
   "source": [
    "print(starts)\n",
    "print(ends)"
   ]
  },
  {
   "cell_type": "code",
   "execution_count": 20,
   "metadata": {},
   "outputs": [],
   "source": [
    "for i in range(len(starts)):\n",
    "    y[starts[i]:ends[i]+1] = 1"
   ]
  },
  {
   "cell_type": "code",
   "execution_count": 21,
   "metadata": {},
   "outputs": [
    {
     "name": "stdout",
     "output_type": "stream",
     "text": [
      "236060\n"
     ]
    }
   ],
   "source": [
    "print(np.count_nonzero(y))"
   ]
  },
  {
   "cell_type": "code",
   "execution_count": 22,
   "metadata": {},
   "outputs": [
    {
     "data": {
      "text/plain": [
       "778050"
      ]
     },
     "execution_count": 22,
     "metadata": {},
     "output_type": "execute_result"
    }
   ],
   "source": [
    "len(y)"
   ]
  },
  {
   "cell_type": "markdown",
   "metadata": {},
   "source": [
    "### Filtering"
   ]
  },
  {
   "cell_type": "code",
   "execution_count": 23,
   "metadata": {},
   "outputs": [],
   "source": [
    "# [Band Pass to demonstrate most prominent frequency range]\n",
    "low_cutoff = 20\n",
    "high_cutoff = 450\n",
    "\n",
    "filtered_data = [0,0,0,0,0,0]\n",
    "\n",
    "for idx, channel in enumerate(channel_data):\n",
    "    signal_meancorrect = channel - np.mean(channel)\n",
    "    \n",
    "    #60Hz Notch Filter for Power Line Noise\n",
    "    b, a = iirnotch(60, 30, 1000)\n",
    "    signal_notched = filtfilt(b, a, signal_meancorrect)\n",
    "\n",
    "    # Fourth Order Butterworth \n",
    "    b, a = butter(10, [low_cutoff, high_cutoff], fs=1000, btype='bandpass')\n",
    "    signal_filtered = filtfilt(b, a, signal_notched)\n",
    "\n",
    "    #Rectify signal\n",
    "    filtered_data[idx] = abs(signal_filtered)"
   ]
  },
  {
   "cell_type": "code",
   "execution_count": 24,
   "metadata": {},
   "outputs": [
    {
     "name": "stdout",
     "output_type": "stream",
     "text": [
      "[-0.00958173 -0.00319391  0.         ... -0.00319391  0.00638782\n",
      "  0.01596956]\n",
      "[3.02249107e-05 5.67150400e-03 8.14509015e-03 ... 1.57520638e-02\n",
      " 7.81051253e-03 9.45682595e-05]\n"
     ]
    }
   ],
   "source": [
    "print(chan_1)\n",
    "print(filtered_data[0])"
   ]
  },
  {
   "cell_type": "markdown",
   "metadata": {},
   "source": [
    "### RMS"
   ]
  },
  {
   "cell_type": "code",
   "execution_count": 12,
   "metadata": {},
   "outputs": [],
   "source": [
    "rms_window = deque([0,0,0,0,0])\n",
    "\n",
    "for channel in filtered_data:\n",
    "    for i, sample in enumerate(channel):\n",
    "        rms_window.popleft()\n",
    "        rms_window.append(sample)\n",
    "        val = np.sqrt(sum(np.square(rms_window)/5))\n",
    "        channel[i] = val"
   ]
  },
  {
   "cell_type": "code",
   "execution_count": 13,
   "metadata": {},
   "outputs": [
    {
     "name": "stdout",
     "output_type": "stream",
     "text": [
      "[0.0001222  0.00142952 0.00200208 ... 0.06531884 0.06714348 0.06269261]\n"
     ]
    }
   ],
   "source": [
    "print(filtered_data[0])"
   ]
  },
  {
   "cell_type": "markdown",
   "metadata": {},
   "source": [
    "### Deleting extraneous data"
   ]
  },
  {
   "cell_type": "code",
   "execution_count": 25,
   "metadata": {},
   "outputs": [],
   "source": [
    "\n",
    "for i in range(len(filtered_data)):\n",
    "    filtered_data[i] = filtered_data[i][27185:767978]"
   ]
  },
  {
   "cell_type": "code",
   "execution_count": 26,
   "metadata": {},
   "outputs": [
    {
     "data": {
      "text/plain": [
       "740793"
      ]
     },
     "execution_count": 26,
     "metadata": {},
     "output_type": "execute_result"
    }
   ],
   "source": [
    "len(filtered_data[0])"
   ]
  },
  {
   "cell_type": "code",
   "execution_count": 27,
   "metadata": {},
   "outputs": [],
   "source": [
    "y = y[27185:767978]"
   ]
  },
  {
   "cell_type": "code",
   "execution_count": 28,
   "metadata": {},
   "outputs": [],
   "source": [
    " #large window to average over\n",
    "window = 40\n",
    "        \n",
    "        #overlap interval\n",
    "skip = 20\n",
    "        \n",
    "ind1 = 0\n",
    "ind2 = window\n",
    "y_new = np.zeros(int(len(y)/20)+1)\n",
    "i = 0\n",
    "while ind1 < len(y):\n",
    "            \n",
    "    #remaining data less than window size, avoid array out of bounds\n",
    "    if ind2 > len(y):\n",
    "        ind2 = len(y)-1\n",
    "                \n",
    "    num_label = np.count_nonzero(y[ind1:ind2])\n",
    "    if num_label > 19:\n",
    "        y_new[i] = 1\n",
    "    ind1 = ind1 + skip\n",
    "    ind2 = ind2 + skip\n",
    "    i = i+1"
   ]
  },
  {
   "cell_type": "code",
   "execution_count": 29,
   "metadata": {},
   "outputs": [
    {
     "name": "stdout",
     "output_type": "stream",
     "text": [
      "740793\n",
      "37040\n"
     ]
    }
   ],
   "source": [
    "print(len(y))\n",
    "print(len(y_new))"
   ]
  },
  {
   "cell_type": "markdown",
   "metadata": {},
   "source": [
    "### Smoothing data as described by SAD doc"
   ]
  },
  {
   "cell_type": "code",
   "execution_count": 31,
   "metadata": {},
   "outputs": [],
   "source": [
    "def rms(raw):\n",
    "        rms_window = deque([0,0,0,0,0])\n",
    "        rms_data = np.zeros(len(raw))\n",
    "        for i, sample in enumerate(raw):\n",
    "            rms_window.popleft()\n",
    "            rms_window.append(sample)\n",
    "            val = np.sqrt(sum(np.square(rms_window)/5))\n",
    "            rms_data[i] = val\n",
    "            \n",
    "        return rms_data\n",
    "    \n",
    "    \n",
    "#TO DO: MAKE SURE ARRAY OUT OF BOUNDS CHECK IS SUFFICIENT\n",
    "def smooth(rms_data):\n",
    "        \n",
    "    #large window to average over; sampling rate is 1000 Hz; each sample is a millisecond\n",
    "    window = 40\n",
    "        \n",
    "    #overlap interval\n",
    "    skip = 20\n",
    "        \n",
    "    ind1 = 0\n",
    "    ind2 = window\n",
    "    #assuming that the packet size i.e. length of raw data and rms_data will be a multiple of 20\n",
    "    downsampled = np.zeros(int(len(rms_data)/20)+1)\n",
    "    i = 0\n",
    "    while ind1 < len(rms_data):\n",
    "            \n",
    "        #remaining data less than window size, avoid array out of bounds\n",
    "        if ind2 > len(rms_data):\n",
    "            ind2 = len(rms_data)-1\n",
    "                \n",
    "        val = np.mean(rms_data[ind1:ind2], dtype=np.float64)\n",
    "        downsampled[i] = val\n",
    "        ind1 = ind1 + skip\n",
    "        ind2 = ind2 + skip\n",
    "        i = i+1\n",
    "            \n",
    "    return downsampled\n",
    "        \n",
    "def calculate(smoothed_envelope):\n",
    "        \n",
    "    return np.abs(np.diff(smoothed_envelope))"
   ]
  },
  {
   "cell_type": "code",
   "execution_count": 32,
   "metadata": {},
   "outputs": [],
   "source": [
    "ready_data = [0,0,0,0,0,0]\n",
    "\n",
    "for i in range(len(filtered_data)):\n",
    "    data_rms = rms(filtered_data[i])\n",
    "    res = smooth(data_rms)\n",
    "    ready_data[i] = res"
   ]
  },
  {
   "cell_type": "code",
   "execution_count": 33,
   "metadata": {},
   "outputs": [
    {
     "name": "stdout",
     "output_type": "stream",
     "text": [
      "37040\n"
     ]
    }
   ],
   "source": [
    "print(np.count_nonzero(ready_data[0]))"
   ]
  },
  {
   "cell_type": "code",
   "execution_count": 34,
   "metadata": {},
   "outputs": [
    {
     "data": {
      "text/plain": [
       "37040"
      ]
     },
     "execution_count": 34,
     "metadata": {},
     "output_type": "execute_result"
    }
   ],
   "source": [
    "len(ready_data[0])"
   ]
  },
  {
   "cell_type": "code",
   "execution_count": 35,
   "metadata": {},
   "outputs": [
    {
     "name": "stdout",
     "output_type": "stream",
     "text": [
      "37040\n"
     ]
    }
   ],
   "source": [
    "y_new = y_new[:37040]\n",
    "print(len(y_new))"
   ]
  },
  {
   "cell_type": "code",
   "execution_count": 36,
   "metadata": {},
   "outputs": [
    {
     "name": "stdout",
     "output_type": "stream",
     "text": [
      "11257\n"
     ]
    }
   ],
   "source": [
    "print(np.count_nonzero(y_new))"
   ]
  },
  {
   "cell_type": "markdown",
   "metadata": {},
   "source": [
    "### Making dataframe and prepping for decision tree classifier"
   ]
  },
  {
   "cell_type": "code",
   "execution_count": 37,
   "metadata": {},
   "outputs": [],
   "source": [
    "df = pd.DataFrame({\n",
    "    \n",
    "    \"Chan1\": ready_data[0],\n",
    "    \"Chan2\": ready_data[1],\n",
    "    \"Chan5\": ready_data[4],\n",
    "    \"Chan6\": ready_data[5],\n",
    "    \"Y\": y_new \n",
    "})"
   ]
  },
  {
   "cell_type": "code",
   "execution_count": 38,
   "metadata": {},
   "outputs": [],
   "source": [
    "X = df[['Chan1', 'Chan2', 'Chan5', 'Chan6']]\n",
    "Y = df[['Y']]"
   ]
  },
  {
   "cell_type": "code",
   "execution_count": 39,
   "metadata": {},
   "outputs": [],
   "source": [
    "scaler = StandardScaler()\n",
    "X = scaler.fit_transform(X)"
   ]
  },
  {
   "cell_type": "code",
   "execution_count": 40,
   "metadata": {},
   "outputs": [],
   "source": [
    "X_train, X_test, y_train, y_test = train_test_split(X, Y, test_size=0.2, shuffle=False)"
   ]
  },
  {
   "cell_type": "code",
   "execution_count": 41,
   "metadata": {},
   "outputs": [
    {
     "name": "stdout",
     "output_type": "stream",
     "text": [
      "29632\n",
      "7408\n"
     ]
    }
   ],
   "source": [
    "print(len(X_train))\n",
    "print(len(X_test))\n"
   ]
  },
  {
   "cell_type": "code",
   "execution_count": 42,
   "metadata": {},
   "outputs": [
    {
     "data": {
      "text/plain": [
       "DecisionTreeClassifier()"
      ]
     },
     "execution_count": 42,
     "metadata": {},
     "output_type": "execute_result"
    }
   ],
   "source": [
    "clf = DecisionTreeClassifier()\n",
    "clf.fit(X_train, y_train)"
   ]
  },
  {
   "cell_type": "code",
   "execution_count": 43,
   "metadata": {},
   "outputs": [
    {
     "name": "stdout",
     "output_type": "stream",
     "text": [
      "0.7671436285097192\n"
     ]
    }
   ],
   "source": [
    "print(clf.score(X_test, y_test))"
   ]
  },
  {
   "cell_type": "code",
   "execution_count": 44,
   "metadata": {},
   "outputs": [
    {
     "name": "stdout",
     "output_type": "stream",
     "text": [
      "0.7782801164875771\n"
     ]
    }
   ],
   "source": [
    "print(np.mean(cross_val_score(clf, X_train, y_train)))"
   ]
  },
  {
   "cell_type": "code",
   "execution_count": 45,
   "metadata": {},
   "outputs": [
    {
     "name": "stdout",
     "output_type": "stream",
     "text": [
      "0.7671436285097192\n",
      "[[4192  988]\n",
      " [ 737 1491]]\n"
     ]
    }
   ],
   "source": [
    "predicted = clf.predict(X_test)\n",
    "\n",
    "#I obtain the accuracy of this fold\n",
    "ac=accuracy_score(predicted,y_test)\n",
    "print(ac)\n",
    "#I obtain the confusion matrix\n",
    "cm=confusion_matrix(y_test, predicted)\n",
    "print(cm)\n",
    "\n"
   ]
  },
  {
   "cell_type": "code",
   "execution_count": 46,
   "metadata": {},
   "outputs": [
    {
     "data": {
      "text/plain": [
       "<sklearn.metrics._plot.confusion_matrix.ConfusionMatrixDisplay at 0x1c7723aedc0>"
      ]
     },
     "execution_count": 46,
     "metadata": {},
     "output_type": "execute_result"
    },
    {
     "data": {
      "image/png": "[encoded data removed]",
      "text/plain": [
       "<Figure size 432x288 with 2 Axes>"
      ]
     },
     "metadata": {
      "needs_background": "light"
     },
     "output_type": "display_data"
    }
   ],
   "source": [
    "from sklearn.metrics import confusion_matrix, ConfusionMatrixDisplay\n",
    "\n",
    "\n",
    "cmd = ConfusionMatrixDisplay(cm,display_labels=['Not Speech','Speech'])\n",
    "cmd.plot()"
   ]
  },
  {
   "cell_type": "code",
   "execution_count": null,
   "metadata": {},
   "outputs": [],
   "source": []
  }
 ],
 "metadata": {
  "kernelspec": {
   "display_name": "Python 3",
   "language": "python",
   "name": "python3"
  },
  "language_info": {
   "codemirror_mode": {
    "name": "ipython",
    "version": 3
   },
   "file_extension": ".py",
   "mimetype": "text/x-python",
   "name": "python",
   "nbconvert_exporter": "python",
   "pygments_lexer": "ipython3",
   "version": "3.8.5"
  }
 },
 "nbformat": 4,
 "nbformat_minor": 2
}
